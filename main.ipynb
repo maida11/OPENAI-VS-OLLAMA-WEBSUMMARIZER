{
 "cells": [
  {
   "cell_type": "markdown",
   "id": "8cf49262",
   "metadata": {},
   "source": [
    "OLLAMA VS OPENAI WEBSITE SUMMARIZER"
   ]
  },
  {
   "cell_type": "code",
   "execution_count": null,
   "id": "8343f553-d03b-4d5c-958b-46aec60c99cf",
   "metadata": {},
   "outputs": [],
   "source": [
    "from openai import OpenAI\n",
    "import os\n",
    "from dotenv import load_dotenv\n",
    "import requests\n",
    "from bs4 import BeautifulSoup\n",
    "import ollama\n",
    "from IPython.display import display, Markdown \n",
    "\n",
    "headers = {\n",
    " \"User-Agent\": \"Mozilla/5.0 (Windows NT 10.0; Win64; x64) AppleWebKit/537.36 (KHTML, like Gecko) Chrome/117.0.0.0 Safari/537.36\"\n",
    "}\n",
    "\n",
    "class Website:\n",
    "\n",
    "    def __init__(self, url):\n",
    "        \"\"\"\n",
    "        Create this Website object from the given url using the BeautifulSoup library\n",
    "        \"\"\"\n",
    "        self.url = url\n",
    "        response = requests.get(url, headers=headers)\n",
    "        soup = BeautifulSoup(response.content, 'html.parser')\n",
    "        self.title = soup.title.string if soup.title else \"No title found\"\n",
    "        for irrelevant in soup.body([\"script\", \"style\", \"img\", \"input\"]):\n",
    "            irrelevant.decompose()\n",
    "        self.text = soup.body.get_text(separator=\"\\n\", strip=True)"
   ]
  },
  {
   "cell_type": "markdown",
   "id": "64735e86",
   "metadata": {},
   "source": [
    "OLLAMA SUMMARIZER USING LLAMA3.2"
   ]
  },
  {
   "cell_type": "code",
   "execution_count": null,
   "id": "be3992d7-f06f-40b2-963f-01931b282570",
   "metadata": {},
   "outputs": [],
   "source": [
    "MODEL = \"llama3.2\"\n",
    "def website_summarizer_ollama(website):\n",
    "    web_content= Website(website)\n",
    "    prompt=f\"summarize the content of the website: {web_content.text}\"\n",
    "    messages = [\n",
    "    {\"role\" : \"system\", \"content\": \"you are a website summarizer\"},\n",
    "    {\"role\": \"user\", \"content\":prompt}\n",
    "    ]\n",
    "    response = ollama.chat(model=MODEL, messages=messages)\n",
    "    return response['message']['content']\n"
   ]
  },
  {
   "cell_type": "markdown",
   "id": "2170b05f",
   "metadata": {},
   "source": [
    "OPENAI SUMMARIZER USING GPT-4o-MINI"
   ]
  },
  {
   "cell_type": "code",
   "execution_count": null,
   "id": "6423d25a-e97c-4adc-892c-4802f1e2abc1",
   "metadata": {},
   "outputs": [],
   "source": [
    "\n",
    "load_dotenv(override=True)\n",
    "api_key = os.getenv('OPENAI_API_KEY')\n",
    "openai = OpenAI()\n",
    "def website_summarizer_openai(website):\n",
    "    web_content= Website(website)\n",
    "    prompt=f\"summarize the content of the website: {web_content.text}\"\n",
    "    messages_web = [\n",
    "    {\"role\" : \"system\", \"content\": \"you are a website summarizer\"},\n",
    "    {\"role\": \"user\", \"content\":prompt}\n",
    "    ]\n",
    "    response = openai.chat.completions.create(\n",
    "        model = \"gpt-4o-mini\",\n",
    "        messages = messages_web\n",
    "    )\n",
    "    return response.choices[0].message.content\n"
   ]
  },
  {
   "cell_type": "markdown",
   "id": "2bc60c50",
   "metadata": {},
   "source": [
    "OLLAMA SUMMARY"
   ]
  },
  {
   "cell_type": "code",
   "execution_count": null,
   "id": "2f87e8fc-c952-4018-8be4-10c94489cb55",
   "metadata": {},
   "outputs": [
    {
     "data": {
      "text/markdown": [
       "The website \"RED Farms\" is an online platform that specializes in providing organic ingredients, chicken breeds, and farming services to customers in Pakistan. Here's a summary of the content:\n",
       "\n",
       "**Services:**\n",
       "\n",
       "* Organic Chicken Breeds: RED Farms offers pure blood-lined exotic breeds such as Black Australorp and Rhode Island Red.\n",
       "* Hatchery Services: The website provides reliable hatching services for any breed of chicken.\n",
       "* Consultancy Services: RED Farms offers organic farm consultancy services to help farmers improve their poultry management techniques.\n",
       "\n",
       "**Products:**\n",
       "\n",
       "* Organic Chicken Meat\n",
       "* Pure Sidr Honey\n",
       "* Desi Eggs\n",
       "* Whole-Wheat Aata (whole wheat flour)\n",
       "* Organic chicken farming products and accessories\n",
       "\n",
       "**About RED Farms:**\n",
       "\n",
       "* RED Farms is a leading provider of organic chicken breeds and farming services in Pakistan.\n",
       "* The company has years of experience in maintaining organic chicken farms and promotes healthy chicken farming practices.\n",
       "* RED Farms provides complete guidance to small-scale farmers who want to initiate their poultry setup.\n",
       "\n",
       "**Contact Information:**\n",
       "\n",
       "* Phone number\n",
       "* Mobile number\n",
       "* Email address\n",
       "* Social media links (Facebook, Instagram, YouTube, Twitter, Pinterest)\n",
       "\n",
       "Overall, the website appears to be a one-stop platform for customers looking for organic chicken breeds, farming services, and related products in Pakistan."
      ],
      "text/plain": [
       "<IPython.core.display.Markdown object>"
      ]
     },
     "metadata": {},
     "output_type": "display_data"
    }
   ],
   "source": [
    "def display_summary_ollama(url):\n",
    "    summary = website_summarizer_ollama(url)\n",
    "    display(Markdown(summary))\n",
    "display_summary_ollama(\"https://red-farms.com/\")"
   ]
  },
  {
   "cell_type": "markdown",
   "id": "027cbe85",
   "metadata": {},
   "source": [
    "OPENAI SUMMARY"
   ]
  },
  {
   "cell_type": "code",
   "execution_count": null,
   "id": "88e23f93-f87d-4664-9bb4-5768d999a4a0",
   "metadata": {},
   "outputs": [
    {
     "data": {
      "text/markdown": [
       "The website \"ORGANIC INGREDIENTS AT YOUR DOORSTEP\" is focused on offering organic poultry products and services, particularly related to the breeding and farming of Black Australorp and Rhode Island Red (RIR) chickens in Pakistan. Key offerings include:\n",
       "\n",
       "1. **Products**: The site features a range of organic items such as fully vaccinated Australorp laying birds, day-old chicks, fertile eggs, and organic foods including desi chicken meat, pure Sidr honey, and whole wheat flour.\n",
       "\n",
       "2. **Hatchery Services**: RED Farms provides advanced hatchery services with high success rates, specializing in various poultry breeds. They emphasize the importance of maintaining quality control and environmental factors during the hatching process.\n",
       "\n",
       "3. **Consultancy Services**: They offer expert consultancy on poultry farming, including farm management, disease identification, and vaccination schedules, aimed at supporting both commercial and backyard poultry farmers.\n",
       "\n",
       "4. **Organic Farming Commitment**: The farm promotes ethical and organic farming practices, ensuring a natural environment for the poultry. They aim to educate and assist small-scale farmers in achieving efficient organic production.\n",
       "\n",
       "5. **Engagement and Support**: The site encourages users to connect via social media to learn more and engage with the farming community.\n",
       "\n",
       "Overall, RED Farms emphasizes quality organic products, expert support, and sustainable practices in poultry farming."
      ],
      "text/plain": [
       "<IPython.core.display.Markdown object>"
      ]
     },
     "metadata": {},
     "output_type": "display_data"
    }
   ],
   "source": [
    "\n",
    "def display_summary_openai(url):\n",
    "    summary = website_summarizer_openai(url)\n",
    "    display(Markdown(summary))\n",
    "\n",
    "display_summary_openai(\"https://red-farms.com/\")"
   ]
  },
  {
   "cell_type": "code",
   "execution_count": null,
   "id": "34240d19-3a0d-492c-a170-04f531d6584f",
   "metadata": {},
   "outputs": [],
   "source": []
  },
  {
   "cell_type": "code",
   "execution_count": null,
   "id": "443ed00a",
   "metadata": {},
   "outputs": [],
   "source": []
  },
  {
   "cell_type": "code",
   "execution_count": null,
   "id": "269cb07b-77af-426e-aa77-1cdbcf86fefb",
   "metadata": {},
   "outputs": [],
   "source": []
  }
 ],
 "metadata": {
  "kernelspec": {
   "display_name": "Python 3 (ipykernel)",
   "language": "python",
   "name": "python3"
  },
  "language_info": {
   "codemirror_mode": {
    "name": "ipython",
    "version": 3
   },
   "file_extension": ".py",
   "mimetype": "text/x-python",
   "name": "python",
   "nbconvert_exporter": "python",
   "pygments_lexer": "ipython3",
   "version": "3.11.13"
  }
 },
 "nbformat": 4,
 "nbformat_minor": 5
}
